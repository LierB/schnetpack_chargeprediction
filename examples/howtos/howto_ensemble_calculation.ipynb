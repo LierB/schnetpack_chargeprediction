{
 "cells": [
  {
   "cell_type": "markdown",
   "metadata": {},
   "source": [
    "# **SchNetPack Ensemble Calculator for Atomistic Simulations**"
   ]
  },
  {
   "cell_type": "markdown",
   "metadata": {},
   "source": [
    "This tutorial demonstrates how to use SchNetPack’s ensemble calculator to predict atomic energies and forces with uncertainty estimation.\n",
    "\n",
    "We’ll walk through the following examples:\n",
    "- How to calculate ensemble-based uncertainty\n",
    "- Structure relaxation using ensemble predictions\n",
    "- Running molecular dynamics (MD) simulations with uncertainty\n",
    "\n",
    "These tools are useful for identifying uncertain regions in simulation trajectories and making more informed decisions in atomistic modeling.\n"
   ]
  },
  {
   "cell_type": "code",
   "execution_count": null,
   "metadata": {},
   "outputs": [],
   "source": [
    "import numpy as np\n",
    "from tqdm import tqdm\n",
    "import matplotlib.pyplot as plt\n",
    "\n",
    "from ase import units\n",
    "from ase.io import read\n",
    "from ase.optimize.lbfgs import LBFGS\n",
    "from ase.md.velocitydistribution import MaxwellBoltzmannDistribution\n",
    "from ase.md.langevin import Langevin\n",
    "\n",
    "from schnetpack.interfaces.ase_interface import SpkEnsembleCalculator, AbsoluteUncertainty, RelativeUncertainty\n",
    "import schnetpack.transform as trn\n",
    "from schnetpack.datasets import MD17"
   ]
  },
  {
   "cell_type": "code",
   "execution_count": null,
   "metadata": {},
   "outputs": [],
   "source": [
    "#load data into atoms object\n",
    "atoms = read('../../tests/testdata/md_ethanol.xyz', index=0)"
   ]
  },
  {
   "cell_type": "markdown",
   "metadata": {},
   "source": [
    "## Ensemble Interface to ASE"
   ]
  },
  {
   "cell_type": "markdown",
   "metadata": {},
   "source": [
    "We specify a list of pre-trained SchNet models trained on ethanol data. These models constitute the **ensemble**, which will be used to serve as a testbed for SchNetPack’s ensemble-enabled `SpkEnsembleCalculator`."
   ]
  },
  {
   "cell_type": "code",
   "execution_count": null,
   "metadata": {},
   "outputs": [],
   "source": [
    "model_path_list = ['../../tests/testdata/md_ethanol.model',\n",
    "                   '../../tests/testdata/md_ethanol_2.model']"
   ]
  },
  {
   "cell_type": "markdown",
   "metadata": {},
   "source": [
    "### ⚖️ Creating an Ensemble Calculator with Uncertainty Quantification\n",
    "\n",
    "In this section, we instantiate two different uncertainty estimators:\n",
    "- `AbsoluteUncertainty` calculates raw standard deviation values.\n",
    "- `RelativeUncertainty` gives uncertainty as a fraction of the mean, which helps when comparing predictions with different scales.\n",
    "\n",
    "Both uncertainty methods are bundled together in `SpkEnsembleCalculator`. This lets us evaluate uncertainty in multiple ways for the same prediction run, giving a more complete picture of model confidence.\n",
    "\n",
    "Finally, we create the `SpkEnsembleCalculator`, which uses multiple trained models to make predictions. It also estimates uncertainty using the methods we provided. This calculator will act just like a regular ASE calculator but with built-in support for ensemble averaging and uncertainty tracking."
   ]
  },
  {
   "cell_type": "code",
   "execution_count": null,
   "metadata": {},
   "outputs": [],
   "source": [
    "uncertainty_abs = AbsoluteUncertainty(energy_weight=0.5,force_weight=1.0)\n",
    "uncertainty_rel = RelativeUncertainty(energy_weight=1.0, force_weight=2.0)\n",
    "\n",
    "uncertainty = [uncertainty_abs, uncertainty_rel]\n",
    "\n",
    "ensemble_calculator = SpkEnsembleCalculator(\n",
    "    models=model_path_list,\n",
    "    neighbor_list=trn.ASENeighborList(cutoff=5.0),\n",
    "    energy_key=MD17.energy,\n",
    "    force_key=MD17.forces,\n",
    "    energy_unit=\"kcal/mol\",\n",
    "    position_unit=\"Ang\",\n",
    "    uncertainty_fn=uncertainty)"
   ]
  },
  {
   "cell_type": "markdown",
   "metadata": {},
   "source": [
    "Assign the ensemble calculator `ensemble_calculator` to the atoms object"
   ]
  },
  {
   "cell_type": "code",
   "execution_count": null,
   "metadata": {},
   "outputs": [],
   "source": [
    "atoms.calc = ensemble_calculator"
   ]
  },
  {
   "cell_type": "markdown",
   "metadata": {},
   "source": [
    " 🔮 Prediction Output:\n",
    "- ⚡ Energy: Total potential energy of the atomic system.\n",
    "- 🔧 Forces: Atomic forces (gradients of energy) for optimization or dynamics.\n",
    "- 📊 Uncertainty: Estimation of model prediction uncertainty from the ensemble."
   ]
  },
  {
   "cell_type": "code",
   "execution_count": null,
   "metadata": {},
   "outputs": [],
   "source": [
    "print(\"Prediction:\")\n",
    "print(\"energy:\", atoms.get_total_energy())\n",
    "print(\"forces:\", atoms.get_forces())\n",
    "print(\"uncertainty:\", ensemble_calculator.get_uncertainty(atoms))"
   ]
  },
  {
   "cell_type": "markdown",
   "metadata": {},
   "source": [
    "# Structure Optimization"
   ]
  },
  {
   "cell_type": "markdown",
   "metadata": {},
   "source": [
    "🏗️ **Distort molecular structure:**\n",
    "- A small random disturbance is added to the atomic positions.\n",
    "- This simulates a noisy or slightly perturbed structure, which helps us test how sensitive the ensemble model is to input changes.\n",
    "- It also makes the uncertainty values more meaningful by introducing some variability."
   ]
  },
  {
   "cell_type": "code",
   "execution_count": null,
   "metadata": {},
   "outputs": [],
   "source": [
    "# distort the structure\n",
    "atoms.positions += np.random.normal(0, 0.3, atoms.positions.shape)"
   ]
  },
  {
   "cell_type": "markdown",
   "metadata": {},
   "source": [
    "⚙️ **Set Up Optimization:**\n",
    "- 🧑‍🔬 **Optimizer**: We set up the LBFGS optimizer, which is a gradient-based method used to minimize the energy of the atomic system.\n",
    "- 🔬 **Calculator**: Assign the ensemble calculator to the atoms object, this connects the prediction engine (our ensemble of models) to the atomic system."
   ]
  },
  {
   "cell_type": "code",
   "execution_count": null,
   "metadata": {},
   "outputs": [],
   "source": [
    "optimizer = LBFGS(atoms)\n",
    "atoms.calc = ensemble_calculator"
   ]
  },
  {
   "cell_type": "markdown",
   "metadata": {},
   "source": [
    "🔄 **Optimization Loop with Uncertainty Tracking:**\n",
    "- 🧑‍🔬 **Optimizer**: Run the optimization using the LBFGS algorithm with a force tolerance of 0.01 and a maximum of 100 steps.\n",
    "- 📊 **Uncertainty Tracking**: After each optimization step, the uncertainty of the energy prediction is appended to the `uncertainties` list, providing insight into model confidence during the process."
   ]
  },
  {
   "cell_type": "code",
   "execution_count": null,
   "metadata": {},
   "outputs": [],
   "source": [
    "uncertainties = []\n",
    "\n",
    "for _ in optimizer.irun(fmax=0.05, steps=300):\n",
    "    uncertainties.append(ensemble_calculator.get_uncertainty(atoms))"
   ]
  },
  {
   "cell_type": "markdown",
   "metadata": {},
   "source": [
    "- **Absolute** and **Relative Uncertainty** values are extracted from the optimization steps.\n",
    "- Plot both **absolute** and **relative** uncertainties against the optimization steps to visualize how uncertainty changes during the process."
   ]
  },
  {
   "cell_type": "code",
   "execution_count": null,
   "metadata": {},
   "outputs": [],
   "source": [
    "# Extract individual uncertainty types\n",
    "abs_vals = [d[\"AbsoluteUncertainty\"] for d in uncertainties]\n",
    "rel_vals = [d[\"RelativeUncertainty\"] for d in uncertainties]\n",
    "steps = list(range(len(uncertainties)))\n",
    "\n",
    "# Create figure and first axis\n",
    "fig, ax1 = plt.subplots(figsize=(8, 6))\n",
    "\n",
    "# Plot absolute uncertainty on left y-axis\n",
    "ax1.plot(steps, abs_vals, label=\"Absolute Uncertainty\", marker='o', color='tab:blue')\n",
    "ax1.set_xlabel(\"Optimization Step\")\n",
    "ax1.set_ylabel(\"Absolute Uncertainty\", color='tab:blue')\n",
    "ax1.tick_params(axis='y', labelcolor='tab:blue')\n",
    "ax1.grid(True)\n",
    "\n",
    "# Create second y-axis for relative uncertainty\n",
    "ax2 = ax1.twinx()\n",
    "ax2.plot(steps, rel_vals, label=\"Relative Uncertainty\", marker='x', color='tab:red')\n",
    "ax2.set_ylabel(\"Relative Uncertainty\", color='tab:red')\n",
    "ax2.tick_params(axis='y', labelcolor='tab:red')\n",
    "\n",
    "# Title and layout\n",
    "plt.title(\"Uncertainty during Optimization\")\n",
    "fig.tight_layout()\n",
    "plt.show()\n"
   ]
  },
  {
   "cell_type": "markdown",
   "metadata": {},
   "source": [
    "Since we're using an ensemble of models, we can now estimate the uncertainty in our predictions during the optimization process.\n",
    "While the absolute uncertainty remains low and stable throughout, the relative uncertainty shows sharp fluctuations at specific steps.\n",
    "This indicates that although the model is generally confident in its predictions, there are certain configurations where the predictions become less reliable relative to their magnitude.\n",
    "These fluctuations can serve as useful indicators of difficult or out-of-distribution structures during optimization."
   ]
  },
  {
   "cell_type": "markdown",
   "metadata": {},
   "source": [
    "# Molecular Dynamics With Annealing Temperature"
   ]
  },
  {
   "cell_type": "markdown",
   "metadata": {},
   "source": [
    "In this setup, we use only absolute uncertainty to measure how much the model predictions vary across the ensemble:\n",
    "\n",
    "🔎 **Note**: The `uncertainty_fn` can be passed as either a **single** uncertainty function or as a **list** of uncertainty functions, depending on the desired level of complexity.\n"
   ]
  },
  {
   "cell_type": "code",
   "execution_count": null,
   "metadata": {},
   "outputs": [],
   "source": [
    "uncertainty_abs = AbsoluteUncertainty(energy_weight=0.5,force_weight=1.0)\n",
    "\n",
    "abs_ensemble_calculator = SpkEnsembleCalculator(\n",
    "    models=model_path_list,\n",
    "    neighbor_list=trn.ASENeighborList(cutoff=5.0),\n",
    "    energy_key=MD17.energy,\n",
    "    force_key=MD17.forces,\n",
    "    energy_unit=\"kcal/mol\",\n",
    "    position_unit=\"Ang\",\n",
    "    uncertainty_fn=uncertainty_abs)"
   ]
  },
  {
   "cell_type": "code",
   "execution_count": null,
   "metadata": {},
   "outputs": [],
   "source": [
    "atoms.calc = ensemble_calculator"
   ]
  },
  {
   "cell_type": "markdown",
   "metadata": {},
   "source": [
    "## Temperature Annealing and Langevin Dynamics with SchNetPack\n",
    "\n",
    "In this simulation, we apply **temperature annealing** and **Langevin dynamics** to model the behavior of ethanol under varying temperatures, optimizing molecular configurations and simulating thermal effects.\n",
    "\n",
    "### Annealing\n",
    "\n",
    "Annealing gradually cools the system from a high initial temperature ($T_{\\text{start}}$) to a lower final temperature ($T_{\\text{end}}$) over time. The temperature is decayed exponentially:\n",
    "\n",
    "$$\n",
    "T_{\\text{annealed}}(t) = T_{\\text{start}} \\times \\exp\\left(-\\frac{t}{n_{\\text{steps}}} \\times \\ln\\left(\\frac{T_{\\text{start}}}{T_{\\text{end}}}\\right)\\right)\n",
    "$$\n",
    "\n",
    "This cooling schedule helps the system avoid local minima and settle into a more stable configuration.\n",
    "\n",
    "### Langevin Dynamics\n",
    "\n",
    "Langevin dynamics includes both deterministic forces and stochastic noise to simulate the interaction with a thermal bath. The equation of motion for atom $i$ is:\n",
    "\n",
    "$$\n",
    "m_i \\frac{d^2 \\mathbf{r}_i}{dt^2} = \\mathbf{F}_i - \\gamma m_i \\frac{d \\mathbf{r}_i}{dt} + \\sqrt{2 \\gamma k_B T} \\xi_i(t)\n",
    "$$\n",
    "\n",
    "Where:\n",
    "- $\\mathbf{F}_i$ is the force acting on atom $i$,\n",
    "- $\\gamma$ is the friction coefficient,\n",
    "- $m_i$ is the mass of the atom,\n",
    "- $T$ is the temperature, and\n",
    "- $\\xi_i(t)$ is a random Gaussian noise term.\n",
    "\n",
    "This term controls the system's energy dissipation and allows thermal fluctuations, mimicking a heat bath.\n",
    "\n",
    "### Uncertainty Estimation with Machine Learning Potentials\n",
    "\n",
    "SchNetPack uses machine learning models to predict energy, forces, and uncertainties. The uncertainty is calculated from the variation between different models in the ensemble, giving a measure of confidence in the predictions.\n",
    "\n",
    "By combining **annealing**, **Langevin dynamics**, and **uncertainty estimation**, we can simulate molecular systems with thermal fluctuations and optimize configurations. The use of machine learning potentials enables more accurate and efficient simulations, particularly for large systems where classical methods may be less reliable.\n"
   ]
  },
  {
   "cell_type": "code",
   "execution_count": null,
   "metadata": {},
   "outputs": [],
   "source": [
    "# Annealing parameters\n",
    "temperature_start = 500  \n",
    "temperature_end = 50    \n",
    "n_steps = 1000          \n",
    "sampling_interval = 10  \n",
    "step_size = 0.5         \n",
    "\n",
    "# Cooling schedule function: Exponential decay of temperature\n",
    "def get_annealed_temperature(step, n_steps, start_temp, end_temp):\n",
    "    return start_temp * np.exp(-step / n_steps * np.log(start_temp / end_temp))\n",
    "\n",
    "MaxwellBoltzmannDistribution(atoms, temperature_K=temperature_start)\n",
    "\n",
    "dyn = Langevin(\n",
    "    atoms, \n",
    "    timestep=step_size * units.fs, \n",
    "    temperature_K=temperature_start,\n",
    "    friction=0.001 / units.fs\n",
    ")\n",
    "\n",
    "ats_traj = []\n",
    "uncertainties = []\n",
    "e_tmp = []\n",
    "\n",
    "for step in tqdm(range(n_steps // sampling_interval)):\n",
    "    annealed_temperature = get_annealed_temperature(step, n_steps, temperature_start, temperature_end)\n",
    "\n",
    "    dyn.temperature_K = annealed_temperature\n",
    "\n",
    "    dyn.run(sampling_interval)\n",
    "\n",
    "    e_tmp.append(atoms.get_temperature())\n",
    "    uncertainties.append(abs_ensemble_calculator.get_uncertainty(atoms))\n",
    "    \n",
    "    ats_traj.append(atoms.copy())\n",
    "\n",
    "    print(f\"Step {step * sampling_interval}, Annealed Temp: {annealed_temperature:.2f} K\")"
   ]
  },
  {
   "cell_type": "code",
   "execution_count": null,
   "metadata": {},
   "outputs": [],
   "source": [
    "fig, ax1 = plt.subplots(figsize=(8, 6))\n",
    "\n",
    "ax1.plot(uncertainties, marker='o', color='blue', label='Uncertainty')\n",
    "ax1.set_xlabel(\"MD Step\")\n",
    "ax1.set_ylabel(\"Uncertainty\", color='blue')\n",
    "ax1.tick_params(axis='y', labelcolor='blue')\n",
    "\n",
    "ax2 = ax1.twinx()\n",
    "ax2.plot(e_tmp, marker='x', color='red', label='Temperature')\n",
    "ax2.set_ylabel(\"Temperature (K)\", color='red')\n",
    "ax2.tick_params(axis='y', labelcolor='red')\n",
    "\n",
    "plt.title(\"Molecular Dynamics: Uncertainty and Temperature Profile\")\n",
    "ax1.grid(True)\n",
    "\n",
    "lines_1, labels_1 = ax1.get_legend_handles_labels()\n",
    "lines_2, labels_2 = ax2.get_legend_handles_labels()\n",
    "ax1.legend(lines_1 + lines_2, labels_1 + labels_2, loc='upper right')\n",
    "\n",
    "plt.tight_layout()\n",
    "plt.show()"
   ]
  },
  {
   "cell_type": "markdown",
   "metadata": {},
   "source": [
    "This annealing MD simulation cools the system from 500 K to 50 K via an exponential decay schedule. The temperature profile (red) reflects this trend with expected thermal fluctuations.\n",
    "\n",
    "Throughout the trajectory, the ensemble model's uncertainty (blue) remains stable despite the changing thermodynamic conditions. This indicates robust generalization of the model across varying configurations, ensuring reliable predictions even as the system explores lower-energy states."
   ]
  }
 ],
 "metadata": {
  "kernelspec": {
   "display_name": "venv",
   "language": "python",
   "name": "python3"
  },
  "language_info": {
   "codemirror_mode": {
    "name": "ipython",
    "version": 3
   },
   "file_extension": ".py",
   "mimetype": "text/x-python",
   "name": "python",
   "nbconvert_exporter": "python",
   "pygments_lexer": "ipython3",
   "version": "3.12.0"
  }
 },
 "nbformat": 4,
 "nbformat_minor": 2
}
